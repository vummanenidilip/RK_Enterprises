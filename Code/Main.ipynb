{
 "cells": [
  {
   "cell_type": "code",
   "execution_count": 1,
   "id": "640cdd63",
   "metadata": {},
   "outputs": [],
   "source": [
    "import pandas as pd"
   ]
  },
  {
   "cell_type": "code",
   "execution_count": 2,
   "id": "7dd5f5cc",
   "metadata": {},
   "outputs": [],
   "source": [
    "import numpy as np"
   ]
  },
  {
   "cell_type": "code",
   "execution_count": 3,
   "id": "e84d4eef",
   "metadata": {},
   "outputs": [],
   "source": [
    "data = pd.read_csv('C:\\\\Users\\\\itsme\\\\OneDrive\\\\Documents\\\\Pythonmain\\\\RK_Enterprises\\\\DILIP\\\\DayBook1.csv')"
   ]
  },
  {
   "cell_type": "code",
   "execution_count": 5,
   "id": "535797b5",
   "metadata": {},
   "outputs": [
    {
     "name": "stdout",
     "output_type": "stream",
     "text": [
      "✅\n"
     ]
    }
   ],
   "source": [
    "import pandas as pd\n",
    "import re\n",
    "\n",
    "# Step 1: Load your original CSV\n",
    "data = pd.read_csv(r'C:\\Users\\itsme\\OneDrive\\Documents\\Pythonmain\\RK_Enterprises\\DILIP\\DayBook1.csv')\n",
    "\n",
    "# Step 2: Extract 'Particulars' and 'Address' columns\n",
    "particulars = data['Particulars']\n",
    "addresses = data['Address']\n",
    "\n",
    "# Step 3: Clean the Particulars (remove BFL / IDFC at start or end)\n",
    "def clean_particulars(name):\n",
    "    if pd.isna(name):\n",
    "        return None\n",
    "    name = name.strip()\n",
    "    name = re.sub(r'^(BFL|IDFC)\\s+', '', name, flags=re.I)   # Remove BFL or IDFC at start\n",
    "    name = re.sub(r'\\s+(BFL|IDFC)$', '', name, flags=re.I)   # Remove BFL or IDFC at end\n",
    "    return name.strip()\n",
    "\n",
    "# Apply cleaning\n",
    "cleaned_particulars = particulars.apply(clean_particulars)\n",
    "\n",
    "# Step 4: Extract Phone Number from Address\n",
    "def extract_phone(address):\n",
    "    if pd.isna(address):\n",
    "        return None\n",
    "    match = re.search(r'\\b\\d{10}\\b', address)\n",
    "    return match.group(0) if match else None\n",
    "\n",
    "# Apply phone extraction\n",
    "phone_numbers = addresses.apply(extract_phone)\n",
    "\n",
    "# Step 5: Create Final DataFrame\n",
    "final_data = pd.DataFrame({\n",
    "    'Particulars': cleaned_particulars,\n",
    "    'Phone Number': phone_numbers\n",
    "})\n",
    "\n",
    "# Step 6: Drop rows where Phone Number is missing\n",
    "final_data = final_data.dropna(subset=['Phone Number'])\n",
    "\n",
    "# (Optional) Step 7: Sort by Particulars (for neatness)\n",
    "final_data = final_data.sort_values(by='Particulars')\n",
    "\n",
    "# Step 8: Save to CSV\n",
    "final_data.to_csv('C:\\\\Users\\\\itsme\\\\OneDrive\\\\Documents\\\\Pythonmain\\\\RK_Enterprises\\\\Phone_Numbers\\\\Customer_Phone_Numbers.csv', index=False)\n",
    "\n",
    "print(\"✅\")\n"
   ]
  },
  {
   "cell_type": "code",
   "execution_count": null,
   "id": "3ebebcad",
   "metadata": {},
   "outputs": [],
   "source": []
  }
 ],
 "metadata": {
  "kernelspec": {
   "display_name": "base",
   "language": "python",
   "name": "python3"
  },
  "language_info": {
   "codemirror_mode": {
    "name": "ipython",
    "version": 3
   },
   "file_extension": ".py",
   "mimetype": "text/x-python",
   "name": "python",
   "nbconvert_exporter": "python",
   "pygments_lexer": "ipython3",
   "version": "3.12.7"
  }
 },
 "nbformat": 4,
 "nbformat_minor": 5
}
